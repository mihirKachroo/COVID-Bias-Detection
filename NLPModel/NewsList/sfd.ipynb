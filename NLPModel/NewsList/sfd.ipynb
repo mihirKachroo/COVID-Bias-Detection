{
 "cells": [
  {
   "cell_type": "code",
   "execution_count": 1,
   "metadata": {},
   "outputs": [],
   "source": [
    "import csv\n",
    "import sys"
   ]
  },
  {
   "cell_type": "code",
   "execution_count": 12,
   "metadata": {},
   "outputs": [
    {
     "name": "stdout",
     "output_type": "stream",
     "text": [
      "LOW\n",
      "extreme-right\n"
     ]
    }
   ],
   "source": [
    "with open(\"corpus.csv\", \"r\") as f:\n",
    "    reader = csv.reader(f)\n",
    "    for line_num, content in enumerate(reader):\n",
    "        if content[1] == \"fury.news\":\n",
    "            #print (content, line_num + 1)\n",
    "            print(content[3])\n",
    "            print(content[4])"
   ]
  },
  {
   "cell_type": "code",
   "execution_count": null,
   "metadata": {},
   "outputs": [],
   "source": []
  }
 ],
 "metadata": {
  "kernelspec": {
   "display_name": "Python 3",
   "language": "python",
   "name": "python3"
  },
  "language_info": {
   "codemirror_mode": {
    "name": "ipython",
    "version": 3
   },
   "file_extension": ".py",
   "mimetype": "text/x-python",
   "name": "python",
   "nbconvert_exporter": "python",
   "pygments_lexer": "ipython3",
   "version": "3.7.6"
  }
 },
 "nbformat": 4,
 "nbformat_minor": 4
}
